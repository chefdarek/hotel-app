{
 "cells": [
  {
   "cell_type": "code",
   "execution_count": 1,
   "id": "blind-timeline",
   "metadata": {},
   "outputs": [],
   "source": [
    "import pandas as pd\n",
    "import matplotlib.pyplot as plt\n",
    "import numpy as np\n"
   ]
  },
  {
   "cell_type": "code",
   "execution_count": 2,
   "id": "induced-manchester",
   "metadata": {},
   "outputs": [],
   "source": [
    "df_bobby = pd.read_csv('https://raw.githubusercontent.com/chefdarek/hotel-app/master/assets/Reviews_bobby_100.csv')\n",
    "df_virgin = pd.read_csv('https://raw.githubusercontent.com/chefdarek/hotel-app/master/assets/Reviews_virgin_100.csv')"
   ]
  },
  {
   "cell_type": "code",
   "execution_count": 52,
   "id": "widespread-python",
   "metadata": {},
   "outputs": [],
   "source": [
    "df_b = df_bobby.copy()\n",
    "df_v = df_virgin.copy()"
   ]
  },
  {
   "cell_type": "code",
   "execution_count": null,
   "id": "blond-viewer",
   "metadata": {},
   "outputs": [],
   "source": [
    "\n"
   ]
  },
  {
   "cell_type": "code",
   "execution_count": null,
   "id": "accessible-treasure",
   "metadata": {},
   "outputs": [],
   "source": []
  },
  {
   "cell_type": "code",
   "execution_count": 53,
   "id": "amino-snake",
   "metadata": {},
   "outputs": [],
   "source": [
    "def clean_df(df):\n",
    "    df = df.drop(['reviewTags', 'businessUrl','place_id','input','images','address'],axis=1 )\n",
    "    return df\n",
    "    "
   ]
  },
  {
   "cell_type": "code",
   "execution_count": 54,
   "id": "vulnerable-stationery",
   "metadata": {},
   "outputs": [],
   "source": [
    "df_b = clean_df(df_b)\n",
    "df_v = clean_df(df_v)"
   ]
  },
  {
   "cell_type": "code",
   "execution_count": 55,
   "id": "allied-cassette",
   "metadata": {},
   "outputs": [
    {
     "data": {
      "text/plain": [
       "['author',\n",
       " 'reviewBody',\n",
       " 'reviewRating',\n",
       " 'ratingMaxvalue',\n",
       " 'dateCreated',\n",
       " 'reviewUrl',\n",
       " 'reviewSource',\n",
       " 'orginalText',\n",
       " 'name',\n",
       " 'reviewCount',\n",
       " 'aggregateRating']"
      ]
     },
     "execution_count": 55,
     "metadata": {},
     "output_type": "execute_result"
    }
   ],
   "source": [
    "df_b.columns.to_list()"
   ]
  },
  {
   "cell_type": "code",
   "execution_count": 70,
   "id": "ordered-majority",
   "metadata": {},
   "outputs": [
    {
     "data": {
      "text/html": [
       "<div>\n",
       "<style scoped>\n",
       "    .dataframe tbody tr th:only-of-type {\n",
       "        vertical-align: middle;\n",
       "    }\n",
       "\n",
       "    .dataframe tbody tr th {\n",
       "        vertical-align: top;\n",
       "    }\n",
       "\n",
       "    .dataframe thead th {\n",
       "        text-align: right;\n",
       "    }\n",
       "</style>\n",
       "<table border=\"1\" class=\"dataframe\">\n",
       "  <thead>\n",
       "    <tr style=\"text-align: right;\">\n",
       "      <th></th>\n",
       "      <th>reviewRating</th>\n",
       "      <th>ratingMaxvalue</th>\n",
       "      <th>reviewCount</th>\n",
       "    </tr>\n",
       "  </thead>\n",
       "  <tbody>\n",
       "    <tr>\n",
       "      <th>count</th>\n",
       "      <td>24.000000</td>\n",
       "      <td>24.0</td>\n",
       "      <td>24.0</td>\n",
       "    </tr>\n",
       "    <tr>\n",
       "      <th>mean</th>\n",
       "      <td>4.666667</td>\n",
       "      <td>5.0</td>\n",
       "      <td>656.0</td>\n",
       "    </tr>\n",
       "    <tr>\n",
       "      <th>std</th>\n",
       "      <td>0.916831</td>\n",
       "      <td>0.0</td>\n",
       "      <td>0.0</td>\n",
       "    </tr>\n",
       "    <tr>\n",
       "      <th>min</th>\n",
       "      <td>1.000000</td>\n",
       "      <td>5.0</td>\n",
       "      <td>656.0</td>\n",
       "    </tr>\n",
       "    <tr>\n",
       "      <th>25%</th>\n",
       "      <td>5.000000</td>\n",
       "      <td>5.0</td>\n",
       "      <td>656.0</td>\n",
       "    </tr>\n",
       "    <tr>\n",
       "      <th>50%</th>\n",
       "      <td>5.000000</td>\n",
       "      <td>5.0</td>\n",
       "      <td>656.0</td>\n",
       "    </tr>\n",
       "    <tr>\n",
       "      <th>75%</th>\n",
       "      <td>5.000000</td>\n",
       "      <td>5.0</td>\n",
       "      <td>656.0</td>\n",
       "    </tr>\n",
       "    <tr>\n",
       "      <th>max</th>\n",
       "      <td>5.000000</td>\n",
       "      <td>5.0</td>\n",
       "      <td>656.0</td>\n",
       "    </tr>\n",
       "  </tbody>\n",
       "</table>\n",
       "</div>"
      ],
      "text/plain": [
       "       reviewRating  ratingMaxvalue  reviewCount\n",
       "count     24.000000            24.0         24.0\n",
       "mean       4.666667             5.0        656.0\n",
       "std        0.916831             0.0          0.0\n",
       "min        1.000000             5.0        656.0\n",
       "25%        5.000000             5.0        656.0\n",
       "50%        5.000000             5.0        656.0\n",
       "75%        5.000000             5.0        656.0\n",
       "max        5.000000             5.0        656.0"
      ]
     },
     "execution_count": 70,
     "metadata": {},
     "output_type": "execute_result"
    }
   ],
   "source": [
    "no_review_count = df_b[df_b['reviewBody'].isna()].count()\n",
    "# no_reviewBody review ratings \n",
    "df_b[df_b['reviewBody'].isna()].describe()"
   ]
  },
  {
   "cell_type": "code",
   "execution_count": null,
   "id": "responsible-puzzle",
   "metadata": {},
   "outputs": [],
   "source": []
  }
 ],
 "metadata": {
  "kernelspec": {
   "display_name": "Python 3",
   "language": "python",
   "name": "python3"
  },
  "language_info": {
   "codemirror_mode": {
    "name": "ipython",
    "version": 3
   },
   "file_extension": ".py",
   "mimetype": "text/x-python",
   "name": "python",
   "nbconvert_exporter": "python",
   "pygments_lexer": "ipython3",
   "version": "3.9.2"
  }
 },
 "nbformat": 4,
 "nbformat_minor": 5
}
